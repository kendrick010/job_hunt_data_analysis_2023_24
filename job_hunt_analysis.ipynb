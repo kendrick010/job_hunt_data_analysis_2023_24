{
 "cells": [
  {
   "cell_type": "markdown",
   "id": "c18c1aa2",
   "metadata": {},
   "source": [
    "# Analysis on My Job/Internship Search For Summer 2024"
   ]
  },
  {
   "cell_type": "markdown",
   "id": "1fed034e",
   "metadata": {},
   "source": [
    "## Overview"
   ]
  },
  {
   "cell_type": "markdown",
   "id": "3b0a972f",
   "metadata": {},
   "source": [
    "Since early July 2023, I have been constantly working on this project called applying for summer internships. For anyone, this is not a fun process, it is draining and demoralizing to see follow-ups entailing the words \"we have decided to pursue a different candidate\" or \"we will not be moving forward with your application\". The internship application process is a brutal process for students around this time in Fall, especially with how the job market not currently doing so well.\n",
    "\n",
    "For roughly 4.5 months, I have been pushing myself to apply for summer internships everyday. Just to briefly highlight how competitive job hunting is, I had to apply to 1,964 summer internship applications within the span of roughly 4.5 months to finally receive one acceptance. Because of the vast number of applications, I also received a fair amount of behavioral/technical calls and interviews. However, as expected, all of these either resulted in rejections or a \"ghost\".\n",
    "\n",
    "By no means my shared experience is intended to discourage anyone from applying to summer roles. I made this repository to shed light and insight based on my education and career background. Hopefully, people in a similar boat as me can take away something helpful from this repository."
   ]
  },
  {
   "cell_type": "markdown",
   "id": "21b50eab",
   "metadata": {},
   "source": [
    "## Background"
   ]
  },
  {
   "cell_type": "markdown",
   "id": "9314852f",
   "metadata": {},
   "source": [
    "Some context about me during my job hunt, I am currently a fourth year Bachelor's student at UCSD majoring in Electrical Engineering and minoring in Cognitive Science, and I am also an incoming Master's student in Electrical Engineering. My career goal is to pursue something in software development or data science. The majority of internship roles I applied to were within the tech and software track, yet the tech job market is ridiculously saturated and competitive. The odds definitely felt against me, especially coming from a non-CS background. In fact, the one acceptance I received was a quality engineering intern role at Texas Instruments.\n",
    "\n",
    "I also used [Simplify's Summer2024-InternshipsPublic](https://github.com/SimplifyJobs/Summer2024-Internships) repository which was THE ultimate curated job listing site for tech internships. Curated job sites like these are known to get flooded and competitive. Applying to jobs is like a dating app, unless you *know* you are a top-tier applicant."
   ]
  },
  {
   "cell_type": "markdown",
   "id": "bee0f696",
   "metadata": {},
   "source": [
    "## Rebuttals"
   ]
  },
  {
   "cell_type": "markdown",
   "id": "3879c1fd",
   "metadata": {},
   "source": [
    "Before laying my analysis on my job search experience, I do want to address potential responses and thoughts, such as why did I keep applying after putting hundreds of applications or why did I keep using curated job sites like LinkedIn or Simplify to find internships despite being aware of the mean competition.\n",
    "\n",
    "My Answer: Because I believe in the numbers game. Personally, whether its applying to tens, hundreds, or thousands roles, I would still pile more applications just to raise my chances in the long-run. If five minutes of my day is what it takes for me to become one application closer to an offer or a summer's worth of work experience, I would unhesitatingly squeeze as many applications everyday. After a hundred or so, it starts becoming an effortless daily routine. While it may sound pointless in mass applying from curated sites with top-tier companies, submitting an application at least puts you in a better position than not. I was also inspired by the student tech content creators on TikTok and YouTube, as they typically share about their experience in applying and working for MAANG companies despite their humble backgrounds. Although the 4.0 GPA Leetcode grinder with +10 hackathon experience candidate typically sticks out the most to recruiters, there is always that humble and unique few that recruiters consider too. Other factors for the persistent job hunting was that I was heavily invested and interested in keeping up with the tech job market scene, and I already had nothing to lose due to a summer return offer from my previous company."
   ]
  },
  {
   "cell_type": "markdown",
   "id": "bfd727b4",
   "metadata": {},
   "source": [
    "## Getting Started"
   ]
  },
  {
   "cell_type": "markdown",
   "id": "4774afb9",
   "metadata": {},
   "source": []
  },
  {
   "cell_type": "markdown",
   "id": "0938bf07",
   "metadata": {},
   "source": [
    "## Libraries/Imports"
   ]
  },
  {
   "cell_type": "code",
   "execution_count": null,
   "id": "f3b7d9e6",
   "metadata": {},
   "outputs": [],
   "source": []
  },
  {
   "cell_type": "markdown",
   "id": "4d627f3f",
   "metadata": {},
   "source": [
    "## Fetching My Job Tracking Dataset"
   ]
  },
  {
   "cell_type": "code",
   "execution_count": null,
   "id": "fa4755ea",
   "metadata": {},
   "outputs": [],
   "source": []
  },
  {
   "cell_type": "markdown",
   "id": "3c637654",
   "metadata": {},
   "source": [
    "## Data Cleaning"
   ]
  },
  {
   "cell_type": "code",
   "execution_count": null,
   "id": "c7218033",
   "metadata": {},
   "outputs": [],
   "source": []
  },
  {
   "cell_type": "markdown",
   "id": "cab82c04",
   "metadata": {},
   "source": [
    "## Exploratory Data Analysis"
   ]
  },
  {
   "cell_type": "code",
   "execution_count": null,
   "id": "c033ce37",
   "metadata": {},
   "outputs": [],
   "source": []
  }
 ],
 "metadata": {
  "kernelspec": {
   "display_name": "Python 3 (ipykernel)",
   "language": "python",
   "name": "python3"
  },
  "language_info": {
   "codemirror_mode": {
    "name": "ipython",
    "version": 3
   },
   "file_extension": ".py",
   "mimetype": "text/x-python",
   "name": "python",
   "nbconvert_exporter": "python",
   "pygments_lexer": "ipython3",
   "version": "3.11.2"
  }
 },
 "nbformat": 4,
 "nbformat_minor": 5
}
